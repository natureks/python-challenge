{
 "cells": [
  {
   "cell_type": "code",
   "execution_count": 1,
   "metadata": {},
   "outputs": [],
   "source": [
    "# Import Dependencies\n",
    "import os\n",
    "import csv"
   ]
  },
  {
   "cell_type": "code",
   "execution_count": 2,
   "metadata": {},
   "outputs": [],
   "source": [
    "def output_str(file_obj, out_str):\n",
    "    print(out_str)\n",
    "    summary_file.writelines(out_str + \"\\n\")"
   ]
  },
  {
   "cell_type": "code",
   "execution_count": 3,
   "metadata": {},
   "outputs": [],
   "source": [
    "# Path to collect data from the Resources folder\n",
    "election_data_file = os.path.join('.', 'Resources', 'election_data.csv')\n",
    "election_summary_file = os.path.join('.', 'Resources', 'election_data_summary.txt')"
   ]
  },
  {
   "cell_type": "code",
   "execution_count": 27,
   "metadata": {},
   "outputs": [],
   "source": [
    "# Read in the CSV file\n",
    "with open(election_data_file, 'r') as csvfile:\n",
    "\n",
    "    # Split the data on commas\n",
    "    csvreader = csv.reader(csvfile, delimiter=',')\n",
    "    votes = []\n",
    "    candidates = {}\n",
    "    \n",
    "    # Loop through the data\n",
    "    for row in csvreader:\n",
    "        if csvreader.line_num == 1:\n",
    "            continue\n",
    "        votes.append(row[2])\n",
    "        candidates[row[2]] = 0\n",
    "\n",
    "    rowCount = csvreader.line_num - 1\n",
    "    \n",
    "    for candidate in candidates.keys():\n",
    "        candidates[candidate] = votes.count(candidate)"
   ]
  },
  {
   "cell_type": "code",
   "execution_count": 30,
   "metadata": {},
   "outputs": [
    {
     "name": "stdout",
     "output_type": "stream",
     "text": [
      "Election Results\n",
      "----------------------------\n",
      "Total Votes: 3521001\n",
      "----------------------------\n",
      "Khan: 63.0% (2218231)\n",
      "Correy: 20.0% (704200)\n",
      "Li: 14.0% (492940)\n",
      "O'Tooley: 3.0% (105630)\n",
      "----------------------------\n",
      "Winner : Khan\n",
      "----------------------------\n"
     ]
    }
   ],
   "source": [
    "with open(election_summary_file, 'w') as summary_file:\n",
    "    output_str(summary_file, \"----------------------------\")\n",
    "    output_str(summary_file, \"Election Results\")\n",
    "    output_str(summary_file, \"----------------------------\")\n",
    "    output_str(summary_file, f\"Total Votes: {rowCount}\")\n",
    "    output_str(summary_file, \"----------------------------\")\n",
    "    winner = \"\"\n",
    "    winner_vote = 0\n",
    "    for candidate, vote in candidates.items():\n",
    "        if vote > winner_vote:\n",
    "            winner_vote = vote\n",
    "            winner = candidate\n",
    "        percent = round(vote*100/rowCount, 3)\n",
    "        output_str(summary_file, f\"{candidate}: {percent}% ({vote})\")\n",
    "        \n",
    "    output_str(summary_file, \"----------------------------\")\n",
    "    output_str(summary_file, f\"Winner : {winner}\")\n",
    "    output_str(summary_file, \"----------------------------\")\n",
    "\n"
   ]
  },
  {
   "cell_type": "code",
   "execution_count": null,
   "metadata": {},
   "outputs": [],
   "source": []
  }
 ],
 "metadata": {
  "kernelspec": {
   "display_name": "Python 3",
   "language": "python",
   "name": "python3"
  },
  "language_info": {
   "codemirror_mode": {
    "name": "ipython",
    "version": 3
   },
   "file_extension": ".py",
   "mimetype": "text/x-python",
   "name": "python",
   "nbconvert_exporter": "python",
   "pygments_lexer": "ipython3",
   "version": "3.7.4"
  }
 },
 "nbformat": 4,
 "nbformat_minor": 2
}
