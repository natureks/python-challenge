{
 "cells": [
  {
   "cell_type": "code",
   "execution_count": 1,
   "metadata": {},
   "outputs": [],
   "source": [
    "# Import Dependencies\n",
    "import os\n",
    "import csv\n"
   ]
  },
  {
   "cell_type": "code",
   "execution_count": 6,
   "metadata": {},
   "outputs": [],
   "source": [
    "# Path to collect data from the Resources folder\n",
    "election_data = os.path.join('.', 'Resources', 'election_data.csv')"
   ]
  },
  {
   "cell_type": "code",
   "execution_count": 9,
   "metadata": {},
   "outputs": [
    {
     "name": "stdout",
     "output_type": "stream",
     "text": [
      "Election Results\n",
      "----------------------------\n",
      "Total Votes: 3521002\n",
      "Total Votes: 3521002\n"
     ]
    }
   ],
   "source": [
    "# Read in the CSV file\n",
    "with open(election_data, 'r') as csvfile:\n",
    "\n",
    "    # Split the data on commas\n",
    "    csvreader = csv.reader(csvfile, delimiter=',')\n",
    "\n",
    "    rowCount = 0\n",
    "\n",
    "    \n",
    "    # Loop through the data\n",
    "    for row in csvreader:\n",
    "        rowCount = rowCount + 1\n",
    "\n",
    "\n",
    "    print(\"Election Results\")\n",
    "    print(\"----------------------------\")\n",
    "    print(f\"Total Votes: {rowCount}\")\n",
    "    print(\"----------------------------\")\n",
    "    print(\"Candidates\")\n",
    "    print(\"----------------------------\")\n",
    "    print(\"Winner: \")\n",
    "    print(\"----------------------------\")\n",
    "\n"
   ]
  },
  {
   "cell_type": "code",
   "execution_count": null,
   "metadata": {},
   "outputs": [],
   "source": []
  }
 ],
 "metadata": {
  "kernelspec": {
   "display_name": "Python 3",
   "language": "python",
   "name": "python3"
  },
  "language_info": {
   "codemirror_mode": {
    "name": "ipython",
    "version": 3
   },
   "file_extension": ".py",
   "mimetype": "text/x-python",
   "name": "python",
   "nbconvert_exporter": "python",
   "pygments_lexer": "ipython3",
   "version": "3.7.4"
  }
 },
 "nbformat": 4,
 "nbformat_minor": 2
}
