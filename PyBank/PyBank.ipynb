{
 "cells": [
  {
   "cell_type": "code",
   "execution_count": 1,
   "metadata": {},
   "outputs": [],
   "source": [
    "# Import Dependencies\n",
    "import os\n",
    "import csv\n"
   ]
  },
  {
   "cell_type": "code",
   "execution_count": 7,
   "metadata": {},
   "outputs": [],
   "source": [
    "# Path to collect data from the Resources folder\n",
    "budget_csv = os.path.join('.', 'Resources', 'budget_data.csv')"
   ]
  },
  {
   "cell_type": "code",
   "execution_count": 24,
   "metadata": {},
   "outputs": [
    {
     "name": "stdout",
     "output_type": "stream",
     "text": [
      "Financial Analysis\n",
      "----------------------------\n",
      "Total Months: 86\n",
      "Total : 38382578\n",
      "Average  Change : 0\n",
      "Greatest Increase in Profits : 1926159\n",
      "Greatest Decrease in Profits : -2196167\n"
     ]
    }
   ],
   "source": [
    "# Read in the CSV file\n",
    "with open(budget_csv, 'r') as csvfile:\n",
    "\n",
    "    # Split the data on commas\n",
    "    csvreader = csv.reader(csvfile, delimiter=',')\n",
    "\n",
    "    header = next(csvreader)\n",
    "\n",
    "    rowCount = 0\n",
    "    total = 0\n",
    "    prevProfit = 0\n",
    "    maxProfitChange = 0\n",
    "    minProfitChange = 0\n",
    "    average = 0\n",
    "    \n",
    "    # Loop through the data\n",
    "    for row in csvreader:\n",
    "        rowCount = rowCount + 1\n",
    "        currentProfit = int(row[1])\n",
    "        total = total + currentProfit\n",
    "        changeInProfit = currentProfit - prevProfit\n",
    "        if changeInProfit > maxProfitChange:\n",
    "            maxProfitChange = changeInProfit\n",
    "        elif changeInProfit < minProfitChange:\n",
    "            minProfitChange = changeInProfit\n",
    "        prevProfit = currentProfit\n",
    "    \n",
    "    print(\"Financial Analysis\")\n",
    "    print(\"----------------------------\")\n",
    "    print(f\"Total Months: {rowCount}\")\n",
    "    print(f\"Total : {total}\")\n",
    "    print(f\"Average  Change : {average}\")\n",
    "    print(f\"Greatest Increase in Profits : {maxProfitChange}\")\n",
    "    print(f\"Greatest Decrease in Profits : {minProfitChange}\")\n",
    "    \n",
    "        \n"
   ]
  },
  {
   "cell_type": "code",
   "execution_count": null,
   "metadata": {},
   "outputs": [],
   "source": []
  }
 ],
 "metadata": {
  "kernelspec": {
   "display_name": "Python 3",
   "language": "python",
   "name": "python3"
  },
  "language_info": {
   "codemirror_mode": {
    "name": "ipython",
    "version": 3
   },
   "file_extension": ".py",
   "mimetype": "text/x-python",
   "name": "python",
   "nbconvert_exporter": "python",
   "pygments_lexer": "ipython3",
   "version": "3.7.4"
  }
 },
 "nbformat": 4,
 "nbformat_minor": 2
}
