{
 "cells": [
  {
   "cell_type": "code",
   "execution_count": 31,
   "metadata": {},
   "outputs": [],
   "source": [
    "# Import Dependencies\n",
    "import os\n",
    "import csv"
   ]
  },
  {
   "cell_type": "code",
   "execution_count": 37,
   "metadata": {},
   "outputs": [],
   "source": [
    "def output_str(file_obj, out_str):\n",
    "    print(out_str)\n",
    "    summary_file.writelines(out_str + \"\\n\")"
   ]
  },
  {
   "cell_type": "code",
   "execution_count": 33,
   "metadata": {},
   "outputs": [],
   "source": [
    "# Path to collect data from the Resources folder\n",
    "budget_csv = os.path.join('.', 'Resources', 'budget_data.csv')"
   ]
  },
  {
   "cell_type": "code",
   "execution_count": 63,
   "metadata": {},
   "outputs": [],
   "source": [
    "# Read in the CSV file\n",
    "with open(budget_csv, 'r') as csvfile:\n",
    "\n",
    "    # Split the data on commas\n",
    "    csvreader = csv.reader(csvfile, delimiter=',')\n",
    "    \n",
    "    header = next(csvreader)\n",
    "\n",
    "    rowCount = 0\n",
    "    total = 0\n",
    "    prevProfit = 0\n",
    "    maxProfitChange = 0\n",
    "    minProfitChange = 0\n",
    "    average = 0\n",
    "    totalChangeInProfit = 0\n",
    "    maxProfitDate = \"\"\n",
    "    minProfitDate = \"\"\n",
    "\n",
    "    # Loop through the data\n",
    "    for row in csvreader:\n",
    "        if csvreader.line_num == 1:\n",
    "            continue\n",
    "        rowCount = rowCount + 1\n",
    "        currentProfit = int(row[1])\n",
    "        total = total + currentProfit\n",
    "        changeInProfit = currentProfit - prevProfit\n",
    "        if csvreader.line_num != 2:\n",
    "           totalChangeInProfit = totalChangeInProfit + changeInProfit\n",
    "        if changeInProfit > maxProfitChange:\n",
    "            maxProfitChange = changeInProfit\n",
    "            maxProfitDate = row[0]\n",
    "        elif changeInProfit < minProfitChange:\n",
    "            minProfitChange = changeInProfit\n",
    "            minProfitDate = row[0]\n",
    "        prevProfit = currentProfit\n",
    "    \n",
    "    average=round(totalChangeInProfit/(rowCount-1), 2)"
   ]
  },
  {
   "cell_type": "code",
   "execution_count": 69,
   "metadata": {},
   "outputs": [
    {
     "name": "stdout",
     "output_type": "stream",
     "text": [
      "Financial Analysis\n",
      "----------------------------\n",
      "Total Months: 86\n",
      "Total : $38,382,578.00\n",
      "Average  Change : $-2,315.12\n",
      "Greatest Increase in Profits for Feb-2012 1926159\n",
      "Greatest Decrease in Profits for Sep-2013 -2196167\n"
     ]
    }
   ],
   "source": [
    "summary_filename = os.path.join('.', 'Resources', 'budget_data_summary.txt')\n",
    "with open(summary_filename, 'w') as summary_file:\n",
    "    output_str(summary_file, \"Financial Analysis\")\n",
    "    output_str(summary_file, \"----------------------------\")\n",
    "    output_str(summary_file, \"Total Months: {0:.0f}\".format(rowCount))\n",
    "    output_str(summary_file, \"Total : ${0:,.2f}\".format(total))\n",
    "\n",
    "    output_str(summary_file, \"Average  Change : ${0:,.2f}\".format(average))\n",
    "    output_str(summary_file, f\"Greatest Increase in Profits: {maxProfitDate} {maxProfitChange}\")\n",
    "    output_str(summary_file, f\"Greatest Decrease in Profits: {minProfitDate} {minProfitChange}\")\n",
    "\n",
    "    "
   ]
  },
  {
   "cell_type": "code",
   "execution_count": null,
   "metadata": {},
   "outputs": [],
   "source": []
  }
 ],
 "metadata": {
  "kernelspec": {
   "display_name": "Python 3",
   "language": "python",
   "name": "python3"
  },
  "language_info": {
   "codemirror_mode": {
    "name": "ipython",
    "version": 3
   },
   "file_extension": ".py",
   "mimetype": "text/x-python",
   "name": "python",
   "nbconvert_exporter": "python",
   "pygments_lexer": "ipython3",
   "version": "3.7.4"
  }
 },
 "nbformat": 4,
 "nbformat_minor": 2
}
